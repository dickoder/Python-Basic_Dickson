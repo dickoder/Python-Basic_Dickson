{
 "cells": [
  {
   "cell_type": "code",
   "execution_count": 1,
   "id": "5c777aeb-7093-4c00-8427-4998ff0e1af2",
   "metadata": {},
   "outputs": [
    {
     "name": "stdout",
     "output_type": "stream",
     "text": [
      "{'name': 'DICKSON', 6: 60, 'age': 45, 'loca': 'GERMANY'}\n",
      "{'name': 'MIKE', 'num_1': 8, 'city': 'London'}\n",
      "{'key1': 'Dickson is my name', 'int_num': 28}\n"
     ]
    }
   ],
   "source": [
    "    # MAPPING - DICTIONARIES\n",
    "# CREATING DICTIONARIES\n",
    "\n",
    "myDict_1 = {'name': 'DICKSON', 6: 60, 'age': 45, 'loca': 'GERMANY'}\n",
    "myDict_2 = dict(name = 'MIKE', num_1 = 8, city = 'London')\n",
    "myDict_3 = {\"key1\": 'Dickson is my name', 'int_num': 28, }\n",
    "\n",
    "\n",
    "print(myDict_1)\n",
    "print(myDict_2)\n",
    "print(myDict_3)"
   ]
  },
  {
   "cell_type": "code",
   "execution_count": 3,
   "id": "b69ae0d3-c3ae-4622-b5dd-bdd12b16f956",
   "metadata": {},
   "outputs": [
    {
     "name": "stdout",
     "output_type": "stream",
     "text": [
      "Dickson is my name\n",
      "True\n"
     ]
    }
   ],
   "source": [
    "# ACCESSING DICTIONARIES\n",
    "\n",
    "print(myDict_3[\"key1\"])\n",
    "print('int_num' in myDict_3)"
   ]
  },
  {
   "cell_type": "code",
   "execution_count": 9,
   "id": "776a62c4-3078-4ca6-ade8-64ad74faf6a7",
   "metadata": {},
   "outputs": [
    {
     "name": "stdout",
     "output_type": "stream",
     "text": [
      "60\n"
     ]
    }
   ],
   "source": [
    "# myDict_1 = {'name': 'DICKSON', 6: 60, 'age': 45, 'loca': 'GERMANY'}\n",
    "\n",
    "\n",
    "print(myDict_1[6])\n"
   ]
  },
  {
   "cell_type": "code",
   "execution_count": 12,
   "id": "e003f495-24e6-4f2a-a729-2daca80eb190",
   "metadata": {},
   "outputs": [
    {
     "name": "stdout",
     "output_type": "stream",
     "text": [
      "I am DICKSON by name, i stayed in GERMANY and i am 60 years old. \n"
     ]
    }
   ],
   "source": [
    "# PASSING F' STRING' IN A DICTIONARIES\n",
    "\n",
    "myDict_1 = {'name': 'DICKSON', 6: 60, 'age': 45, 'loca': 'GERMANY'}\n",
    "\n",
    "\n",
    "print(f\"I am {myDict_1['name']} by name, i stayed in {myDict_1['loca']} and i am {myDict_1[6]} years old. \")"
   ]
  },
  {
   "cell_type": "code",
   "execution_count": 13,
   "id": "9ae0c336-bd67-48cb-979c-67926d5e8d3a",
   "metadata": {},
   "outputs": [
    {
     "name": "stdout",
     "output_type": "stream",
     "text": [
      "DICKSON\n"
     ]
    },
    {
     "data": {
      "text/plain": [
       "'NOT IN DICT'"
      ]
     },
     "execution_count": 13,
     "metadata": {},
     "output_type": "execute_result"
    }
   ],
   "source": [
    "# USING THE .GET METHOD  - If KEY not found then print 'NOT FOUND'\n",
    "\n",
    "print(myDict_1.get('name', 'Not Found'))\n",
    "myDict_1.get(6, 'NOT IN DICT')"
   ]
  },
  {
   "cell_type": "code",
   "execution_count": 18,
   "id": "610b79e2-678f-4783-88ac-cd85d38fcc39",
   "metadata": {},
   "outputs": [
    {
     "data": {
      "text/plain": [
       "{'fruit': 'Tangering', 'tel': '080537123'}"
      ]
     },
     "execution_count": 18,
     "metadata": {},
     "output_type": "execute_result"
    }
   ],
   "source": [
    "# UPDATING and ADDING NEW KEYS IN DICTIONARIES\n",
    "myDict_A = {'fruit': 'Mango', 'tel': '080537123'}\n",
    "\n",
    "# Assingning new value to a Key \n",
    "myDict_A['fruit'] = 'Tangering'\n",
    "myDict_A"
   ]
  },
  {
   "cell_type": "code",
   "execution_count": 57,
   "id": "f05107d6-d35c-4caf-b173-579a95460928",
   "metadata": {},
   "outputs": [
    {
     "data": {
      "text/plain": [
       "{'fruit': 'Tangering', 'tel': '080537123', 'age': '50 years'}"
      ]
     },
     "execution_count": 57,
     "metadata": {},
     "output_type": "execute_result"
    }
   ],
   "source": [
    "# Adding New KEY and VALUE to a DICTIONARIES\n",
    "# myDict_A = {'fruit': 'Mango', 'tel': '080537123'}#\n",
    "\n",
    "myDict_A['age'] = '50 years'\n",
    "myDict_A"
   ]
  },
  {
   "cell_type": "code",
   "execution_count": 110,
   "id": "7d2fc9d1-db52-4638-821b-757cc02a2199",
   "metadata": {},
   "outputs": [
    {
     "data": {
      "text/plain": [
       "{'fruit': 'Mango', 'tel': '080537123', 'cars': ('honda', 'toyota')}"
      ]
     },
     "execution_count": 110,
     "metadata": {},
     "output_type": "execute_result"
    }
   ],
   "source": [
    "# Adding more KEY and VALUE to a DICTIONARIES\n",
    "# myDict_A = {'fruit': 'Mango', 'tel': '080537123'}\n",
    "\n",
    "myDict_A['cars'] = 'honda', 'toyota'\n",
    "myDict_A"
   ]
  },
  {
   "cell_type": "code",
   "execution_count": 128,
   "id": "59a8cab9-8f2a-41c8-bbfd-4b33380bffee",
   "metadata": {},
   "outputs": [
    {
     "name": "stdout",
     "output_type": "stream",
     "text": [
      "{'name': 'ADESUPER', 'age': '45', 'location': 'abuja', 'tel': '08053653421', 'email': 'dicksonblak@gmail.com', 'height': '5.2'}\n"
     ]
    }
   ],
   "source": [
    "# Methods in Dictionares - '.update()'   '.item()'  '.keys'  '.values'  '.clears'\n",
    "dict_all = {'name': 'ADESUPER', 'age': '45', 'location': 'abuja', 'tel': '08053653421'}\n",
    "\n",
    "# Using .Update =================\n",
    "\n",
    "add_info = {'email':'dicksonblak@gmail.com', 'height': '5.2'}\n",
    "dict_all.update(add_info)\n",
    "print(dict_all)"
   ]
  },
  {
   "cell_type": "code",
   "execution_count": 184,
   "id": "40088ddb-02fd-442d-b91e-e3e8df7d5835",
   "metadata": {},
   "outputs": [
    {
     "name": "stdout",
     "output_type": "stream",
     "text": [
      "{'name': 'ADESUPER', 'age': '45', 'location': 'abuja', 'tel': '08053653421', 'brand': 'HP Lazer'}\n"
     ]
    }
   ],
   "source": [
    "# Methods in Dictionares - '.update()'  second types\n",
    "\n",
    "dict_all = {'name': 'ADESUPER', 'age': '45', 'location': 'abuja', 'tel': '08053653421'}\n",
    "dict_all.update({'brand': 'HP Lazer'})\n",
    "\n",
    "print(dict_all)"
   ]
  },
  {
   "cell_type": "code",
   "execution_count": 150,
   "id": "815f8127-d249-4cb0-a967-9c0b0bfa104a",
   "metadata": {},
   "outputs": [
    {
     "data": {
      "text/plain": [
       "dict_items([('name', 'ADESUPER'), ('age', '45'), ('location', 'abuja'), ('tel', '08053653421'), ('email', 'dicksonblak@gmail.com'), ('height', '5.2')])"
      ]
     },
     "execution_count": 150,
     "metadata": {},
     "output_type": "execute_result"
    }
   ],
   "source": [
    "# Using . Items - its display and arrange the dictionaries into tuple view ================\n",
    "dict_all.items()"
   ]
  },
  {
   "cell_type": "code",
   "execution_count": 168,
   "id": "604a25ed-1794-49f5-841b-2968674e1488",
   "metadata": {},
   "outputs": [
    {
     "data": {
      "text/plain": [
       "dict_keys(['name', 'age', 'location', 'tel', 'email', 'height'])"
      ]
     },
     "execution_count": 168,
     "metadata": {},
     "output_type": "execute_result"
    }
   ],
   "source": [
    "# ==== Printout All KEYS in the Dictinaries \n",
    "dict_all.keys()"
   ]
  },
  {
   "cell_type": "code",
   "execution_count": 160,
   "id": "51ed278a-24c0-4cbc-bf8f-c7a845f8489d",
   "metadata": {},
   "outputs": [
    {
     "data": {
      "text/plain": [
       "dict_values(['ADESUPER', '45', 'abuja', '08053653421', 'dicksonblak@gmail.com', '5.2'])"
      ]
     },
     "execution_count": 160,
     "metadata": {},
     "output_type": "execute_result"
    }
   ],
   "source": [
    "# ==== Printout All VALUES in the Dictinaries \n",
    "dict_all.values()"
   ]
  },
  {
   "cell_type": "code",
   "execution_count": 170,
   "id": "61c58c0b-2095-46df-bfb5-83750db16a6d",
   "metadata": {},
   "outputs": [
    {
     "name": "stdout",
     "output_type": "stream",
     "text": [
      "{'name': 'DAYO', 'age': '23'}\n"
     ]
    }
   ],
   "source": [
    "# ==== Printout All KEYS in the Dictinaries \n",
    "dict_a2 = {'name': 'DAYO', 'age': '23'}\n",
    "print(dict_a2)"
   ]
  },
  {
   "cell_type": "code",
   "execution_count": 174,
   "id": "fd155772-b1bf-48bf-9a24-87199bfd82e0",
   "metadata": {},
   "outputs": [],
   "source": [
    "dict_a2.clear()"
   ]
  },
  {
   "cell_type": "code",
   "execution_count": 176,
   "id": "0d2d747e-7f78-4a8c-ab80-a83783175af8",
   "metadata": {},
   "outputs": [
    {
     "data": {
      "text/plain": [
       "{}"
      ]
     },
     "execution_count": 176,
     "metadata": {},
     "output_type": "execute_result"
    }
   ],
   "source": [
    "dict_a2"
   ]
  },
  {
   "cell_type": "code",
   "execution_count": null,
   "id": "95c10d38-d8a6-45ed-820f-c132c6835c63",
   "metadata": {},
   "outputs": [],
   "source": [
    "# TASK 1  Create a dictionary variable called student_info that contains the following information:\n",
    "# Name (string)\n",
    "# Age (integer)\n",
    "# Course (string)\n",
    "# GPA (float)        -  Print the entire dictionary."
   ]
  },
  {
   "cell_type": "code",
   "execution_count": 6,
   "id": "fccbb6a8-280e-4d0b-8198-fb81768fe921",
   "metadata": {},
   "outputs": [
    {
     "name": "stdout",
     "output_type": "stream",
     "text": [
      "{'Name': 'Dickson', 'Age': 41, 'Course': 'Math', 'GPA': 88.34}\n"
     ]
    }
   ],
   "source": [
    "student_info = {\"Name\": 'Dickson', \"Age\": 41, \"Course\": 'Math', \"GPA\": 88.34}\n",
    "print(student_info)"
   ]
  },
  {
   "cell_type": "code",
   "execution_count": 21,
   "id": "822ac4e5-1db1-44c9-9023-fa6d7d08cbcd",
   "metadata": {},
   "outputs": [
    {
     "name": "stdout",
     "output_type": "stream",
     "text": [
      "Math\n",
      "Math\n",
      "88.34\n"
     ]
    }
   ],
   "source": [
    "# Task 2: Accessing Values    student_info = {\"Name\": 'Dickson', \"Age\": 41, \"Course\": 'Math', \"GPA\": 88.34}\n",
    "# Access and print the value associated with the \"Course\" key.\n",
    "# Access and print the value associated with the \"GPA\" key.\n",
    "\n",
    "print(student_info[\"Course\"])\n",
    "print(student_info.get(\"Course\"))\n",
    "\n",
    "print(student_info['GPA'])"
   ]
  },
  {
   "cell_type": "code",
   "execution_count": 28,
   "id": "4c0e11e2-ed81-45aa-9080-3f87d3904075",
   "metadata": {},
   "outputs": [
    {
     "name": "stdout",
     "output_type": "stream",
     "text": [
      "{'Name': 'Dickson', 'Age': 42, 'Course': 'Math', 'GPA': 88.34, 'GradeYear': '2012', 'GradYear2': '2023', 'GradYear3': '2014'}\n"
     ]
    }
   ],
   "source": [
    "# Task 3: Modifying the Dictionary   \n",
    "# Update the \"Age\" key to reflect the student's age next year (increment by 1).\n",
    "# Add a new key-value pair for \"Graduation Year\" (integer) and assign it a year of your choice.\n",
    "# student_info = {\"Name\": 'Dickson', \"Age\": 41, \"Course\": 'Math', \"GPA\": 88.34}\n",
    "\n",
    "student_info[\"Age\"] = 42 \n",
    "#============================================\n",
    "student_info.update({\"GradeYear\": '2012'})   # direct update\n",
    "student_info['GradYear2'] = '2023'\n",
    "add_dict = {\"GradYear3\": '2014'}\n",
    "student_info.update(add_dict)           #update from an assigned variable\n",
    "print(student_info)\n",
    "\n"
   ]
  },
  {
   "cell_type": "code",
   "execution_count": 29,
   "id": "1bd68fab-bf13-416f-80c4-7ab57d8d798c",
   "metadata": {},
   "outputs": [],
   "source": [
    "# Task 4: Removing Items\n",
    "\n",
    "del student_info['Course']\n"
   ]
  },
  {
   "cell_type": "code",
   "execution_count": 30,
   "id": "8b20ded2-daf0-4aff-8dcb-ca1bbf215e79",
   "metadata": {},
   "outputs": [
    {
     "name": "stdout",
     "output_type": "stream",
     "text": [
      "{'Name': 'Dickson', 'Age': 42, 'GPA': 88.34, 'GradeYear': '2012', 'GradYear2': '2023', 'GradYear3': '2014'}\n"
     ]
    }
   ],
   "source": [
    "print(student_info)"
   ]
  },
  {
   "cell_type": "code",
   "execution_count": null,
   "id": "09c0f86f-d4f4-497e-9f40-195098f92860",
   "metadata": {},
   "outputs": [],
   "source": []
  }
 ],
 "metadata": {
  "kernelspec": {
   "display_name": "Python 3 (ipykernel)",
   "language": "python",
   "name": "python3"
  },
  "language_info": {
   "codemirror_mode": {
    "name": "ipython",
    "version": 3
   },
   "file_extension": ".py",
   "mimetype": "text/x-python",
   "name": "python",
   "nbconvert_exporter": "python",
   "pygments_lexer": "ipython3",
   "version": "3.12.4"
  }
 },
 "nbformat": 4,
 "nbformat_minor": 5
}
