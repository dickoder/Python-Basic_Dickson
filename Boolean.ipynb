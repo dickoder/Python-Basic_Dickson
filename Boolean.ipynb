{
 "cells": [
  {
   "cell_type": "code",
   "execution_count": 3,
   "id": "87354476-3fe6-4abf-8d6f-d84d66c0d8c7",
   "metadata": {},
   "outputs": [
    {
     "data": {
      "text/plain": [
       "False"
      ]
     },
     "execution_count": 3,
     "metadata": {},
     "output_type": "execute_result"
    }
   ],
   "source": [
    "#  === BOOLEAN ====\n",
    "\n",
    "a = True\n",
    "b = False\n",
    "\n",
    "result = a and b  # it displays result if boolean variable are true\n",
    "print(result)"
   ]
  },
  {
   "cell_type": "code",
   "execution_count": 5,
   "id": "bfa7e306-40de-4990-bf21-39eb5f06ac55",
   "metadata": {},
   "outputs": [
    {
     "data": {
      "text/plain": [
       "True"
      ]
     },
     "execution_count": 5,
     "metadata": {},
     "output_type": "execute_result"
    }
   ],
   "source": [
    "# OR - operator\n",
    "resul_OR = a or b     # it return when atleast one of the variables is TRUE\n",
    "resul_OR"
   ]
  },
  {
   "cell_type": "code",
   "execution_count": 37,
   "id": "b1f3b1b1-4b13-4e06-ab09-efa243b2354b",
   "metadata": {},
   "outputs": [
    {
     "name": "stdout",
     "output_type": "stream",
     "text": [
      "IT IS EMPTY\n"
     ]
    }
   ],
   "source": [
    "# Trulthy and Falsy evaluation\n",
    "# Some Boolean context are falsy e.g [], {}, \"\", set() - are empty and falsy.  0, None - are Falsy\n",
    "if []:\n",
    "    print(\"This List is NOT EMPTY\")\n",
    "else:\n",
    "    print(\"IT IS EMPTY\")"
   ]
  },
  {
   "cell_type": "code",
   "execution_count": 23,
   "id": "8832d0d1-4348-4ce1-a2a2-425c75713c3d",
   "metadata": {},
   "outputs": [
    {
     "name": "stdout",
     "output_type": "stream",
     "text": [
      "True\n",
      "False\n",
      "False\n"
     ]
    }
   ],
   "source": [
    "print(bool(1))  # converting to Boolean\n",
    "print(bool(0))  # 0 is empty so it will result FALSE\n",
    "print(bool(\"\"))  # \"\" is an empty string"
   ]
  },
  {
   "cell_type": "code",
   "execution_count": 21,
   "id": "a15a8063-ffdf-4ce3-8f7f-307a9e77e568",
   "metadata": {},
   "outputs": [
    {
     "name": "stdout",
     "output_type": "stream",
     "text": [
      "False    x == y (x is equal y) \n",
      "True    x != y (x Not equaly) \n",
      "True    x > y (x is greater than y) \n",
      "False    x < y (x is Not greater than y) \n",
      "True    x is not y (x Is Not y) \n"
     ]
    }
   ],
   "source": [
    "# Evaluating Operators\n",
    "x = 15\n",
    "y = 10\n",
    "\n",
    "print(x == y, \"   x == y (x is equal y) \")\n",
    "print(x != y, \"   x != y (x Not equaly) \")\n",
    "print(x > y, \"   x > y (x is greater than y) \")\n",
    "print(x < y, \"   x < y (x is Not greater than y) \")\n",
    "print(x is not y, \"   x is not y (x Is Not y) \")"
   ]
  },
  {
   "cell_type": "code",
   "execution_count": 53,
   "id": "992edfee-6b8d-4d44-80f5-6eb89b845973",
   "metadata": {},
   "outputs": [
    {
     "name": "stdout",
     "output_type": "stream",
     "text": [
      "False  ---- result is False, because both operands are not same e.g 'True' or 'False' \n",
      "True  ---- result will be TRUE, because one of the operands is Either 'True' \n",
      "False ---- result will returns False, because P is NOT J - not same operands\n"
     ]
    }
   ],
   "source": [
    "# Using Logical Operators - NOT / AND / OR\n",
    "p = True\n",
    "j = False\n",
    "\n",
    "print(p and j,\" ---- result is False, because both operands are not same e.g 'True' or 'False' \")\n",
    "print(p or j, \" ---- result will be TRUE, because one of the operands is Either 'True' \")\n",
    "print(not p, \"---- result will returns False, because P is NOT J - not same operands\")\n"
   ]
  },
  {
   "cell_type": "code",
   "execution_count": 27,
   "id": "13575d93-b01f-4a15-8a3f-6ce7f7ba696d",
   "metadata": {},
   "outputs": [
    {
     "name": "stdout",
     "output_type": "stream",
     "text": [
      "True\n"
     ]
    }
   ],
   "source": [
    "# Using ANY / ALL Boolean Functions\n",
    "print(any([\"JAMES\", 4, 7]))    # Using (ANY) to return True if an element in the iterable is EITHER False or True\n",
    "print(all([True, False, False, True]))    # Using (ALL) to return True if an element in the iterable is True ONLY "
   ]
  },
  {
   "cell_type": "code",
   "execution_count": 1,
   "id": "c4944ee5-f2d3-4eff-8689-e5f26e0c6c1f",
   "metadata": {},
   "outputs": [
    {
     "name": "stdout",
     "output_type": "stream",
     "text": [
      "True\n",
      "False\n"
     ]
    }
   ],
   "source": [
    "# =========C. Task =======\n",
    "# Creating 2 Boolean variables\n",
    "is_sunny = True\n",
    "is_weekend = False\n",
    "\n",
    "print(is_sunny)\n",
    "print(is_weekend)"
   ]
  },
  {
   "cell_type": "code",
   "execution_count": 17,
   "id": "d327137c-a666-453c-b13c-f3425f31a415",
   "metadata": {},
   "outputs": [
    {
     "name": "stdout",
     "output_type": "stream",
     "text": [
      "False\n"
     ]
    }
   ],
   "source": [
    "#==== T-2==Using AND Operator==\n",
    "\"\"\"is_sunny = True\n",
    "   is_weekend = False\n",
    "   \"\"\"\n",
    "can_go_outside = is_sunny and is_weekend\n",
    "print(can_go_outside)        # The result will returns false as both are not same operands."
   ]
  },
  {
   "cell_type": "code",
   "execution_count": 19,
   "id": "7a641b4d-fc55-4c09-9c8e-910a2a3088ef",
   "metadata": {},
   "outputs": [
    {
     "data": {
      "text/plain": [
       "True"
      ]
     },
     "execution_count": 19,
     "metadata": {},
     "output_type": "execute_result"
    }
   ],
   "source": [
    "#==== T-2=== Using OR Operator==\n",
    "\"\"\"\n",
    "Create a variable called can_go_outside that checks if it is sunny and the weekend using the and operator.\n",
    "Create a variable called is_happy that checks if it is sunny or the weekend using the or operator.\n",
    "Create a variable called not_sunny that uses the not operator on is_sunny.\n",
    "\"\"\"\n",
    "\n",
    "is_happy = is_sunny or is_weekend\n",
    "is_happy           # the result will returns TRUE if atleast one ofthe variable- operand\\ is True"
   ]
  },
  {
   "cell_type": "code",
   "execution_count": 27,
   "id": "a16c38bc-c03f-424a-9cd8-2efe46bc9280",
   "metadata": {},
   "outputs": [
    {
     "name": "stdout",
     "output_type": "stream",
     "text": [
      "False\n"
     ]
    }
   ],
   "source": [
    "not_sunny = not is_sunny\n",
    "print(not_sunny)"
   ]
  },
  {
   "cell_type": "code",
   "execution_count": 31,
   "id": "7f7234da-36cb-496b-b486-1c54cb3ff3ce",
   "metadata": {},
   "outputs": [
    {
     "name": "stdout",
     "output_type": "stream",
     "text": [
      "False\n",
      "True\n",
      "False\n"
     ]
    }
   ],
   "source": [
    "# ====== T-3 ======\n",
    "\"\"\"\n",
    "Define two numeric variables: x and y.\n",
    "Use comparison operators to create the following Boolean variables: is_equal, is_greater, and is_less_or_equal.\n",
    "Print the results of each comparison.\n",
    "\"\"\"\n",
    "x = 10\n",
    "y = 5\n",
    "\n",
    "is_equal = x == y\n",
    "is_greater = x > y\n",
    "is_less_or_equal = x <= y\n",
    "\n",
    "print(is_equal)\n",
    "print(is_greater)\n",
    "print(is_less_or_equal)"
   ]
  },
  {
   "cell_type": "code",
   "execution_count": 9,
   "id": "e7eac684-123d-4ca6-b4f9-33358a80e721",
   "metadata": {},
   "outputs": [
    {
     "name": "stdout",
     "output_type": "stream",
     "text": [
      "It is Sunny Alone, NOT weekend\n"
     ]
    }
   ],
   "source": [
    "# ====== T-4 ==== Write a program that prints a message based on the values of is_sunny and is_weekend.\n",
    "is_sunny = True\n",
    "is_weekend = False\n",
    "\n",
    "if is_sunny and is_weekend:\n",
    "    print(\"Yes, it is Sunny and its Weekend\")\n",
    "elif is_sunny and not is_weekend:\n",
    "    print(\"It is Sunny Alone, NOT weekend\")\n",
    "elif not is_sunny and is_weekend:\n",
    "    print(\"It is WEEKEND, not Sunny\")\n",
    "else:\n",
    "    print(\"its not Sunny and its weekend\")"
   ]
  },
  {
   "cell_type": "code",
   "execution_count": 13,
   "id": "d36ae175-206c-4363-b3c8-385ae8d3ab9a",
   "metadata": {},
   "outputs": [
    {
     "name": "stdout",
     "output_type": "stream",
     "text": [
      "0 is falsy.\n",
      "1 is truthy.\n",
      " is falsy.\n",
      "[] is falsy.\n",
      "{} is falsy.\n",
      "None is falsy.\n",
      "Hello is truthy.\n",
      "True is truthy.\n",
      "3.2 is truthy.\n"
     ]
    }
   ],
   "source": [
    "# ===== T-5 ==\n",
    "\"\"\"Truthy and Falsy Values\n",
    "Define a list with various values, including at least one truthy and one falsy value.\n",
    "Write a loop that checks each value in the list and prints whether it is truthy or falsy.\"\"\"\n",
    "\n",
    "values = [0, 1, \"\", [], {}, None, \"Hello\", True, 3.2]\n",
    "for value in values:\n",
    "    if value:\n",
    "        print(f\"{value} is truthy.\")\n",
    "    else:\n",
    "        print(f\"{value} is falsy.\")"
   ]
  },
  {
   "cell_type": "code",
   "execution_count": 27,
   "id": "fa61a095-849a-4b92-89ce-46de2ee1b9b7",
   "metadata": {},
   "outputs": [
    {
     "name": "stdout",
     "output_type": "stream",
     "text": [
      "0  is falsy\n",
      "None  is falsy\n",
      "  is falsy\n",
      "{}  is falsy\n",
      "[]  is falsy\n",
      "45 is truthy\n",
      "Dickson is truthy\n",
      "['Mango'] is truthy\n",
      "4.84 is truthy\n"
     ]
    }
   ],
   "source": [
    "# Retrying \n",
    "v = [0, None, \"\", {}, [], 45, \"Dickson\", [\"Mango\"], 4.84]\n",
    "for i in v:\n",
    "    if i:\n",
    "        print(i, \"is truthy\")\n",
    "    else:\n",
    "        print(i, \" is falsy\")"
   ]
  },
  {
   "cell_type": "code",
   "execution_count": 29,
   "id": "d5f85caa-0d05-4696-af4b-98a68076dc50",
   "metadata": {},
   "outputs": [
    {
     "name": "stdout",
     "output_type": "stream",
     "text": [
      "False\n"
     ]
    }
   ],
   "source": [
    "#  ====T- 6========Boolean Functions\n",
    "\"\"\"\n",
    "1. Create a variable called user_input and set it to None.\n",
    "2.Use the bool() function to check the truthiness of user_input and print the result.\n",
    "3.Create another list called mixed_values with some truthy and falsy values. \n",
    "Use any() to check if any values are truthy and print the result, and use all() to check if all values are truthy and print the result.\n",
    "\"\"\"\n",
    "user_input = None\n",
    "\n",
    "print(bool(user_input))"
   ]
  },
  {
   "cell_type": "code",
   "execution_count": 31,
   "id": "9301efd4-f590-4d11-a5de-fee00576cdd3",
   "metadata": {},
   "outputs": [
    {
     "name": "stdout",
     "output_type": "stream",
     "text": [
      "True\n"
     ]
    }
   ],
   "source": [
    "mixed_values = [0, None, \"\", {}, [], 45, \"Dickson\", [\"Mango\"], 4.84]\n",
    "print(any(mixed_values))               #Use any() to check if ANY values are truthy"
   ]
  },
  {
   "cell_type": "code",
   "execution_count": 35,
   "id": "8cad4adc-2165-49fd-8fe8-fed62136c274",
   "metadata": {},
   "outputs": [
    {
     "name": "stdout",
     "output_type": "stream",
     "text": [
      "False\n"
     ]
    }
   ],
   "source": [
    "mixed_values_all = [{}, [], 76, \"Dickson\", 0, None, \"\", [\"Orange\"], 1.36]\n",
    "print(all(mixed_values_all))               #Use all() to check if ALL values are truthy"
   ]
  },
  {
   "cell_type": "code",
   "execution_count": null,
   "id": "ad5ea1f0-b45e-45c8-9240-9d89a9a91e21",
   "metadata": {},
   "outputs": [],
   "source": []
  }
 ],
 "metadata": {
  "kernelspec": {
   "display_name": "Python 3 (ipykernel)",
   "language": "python",
   "name": "python3"
  },
  "language_info": {
   "codemirror_mode": {
    "name": "ipython",
    "version": 3
   },
   "file_extension": ".py",
   "mimetype": "text/x-python",
   "name": "python",
   "nbconvert_exporter": "python",
   "pygments_lexer": "ipython3",
   "version": "3.12.4"
  }
 },
 "nbformat": 4,
 "nbformat_minor": 5
}
