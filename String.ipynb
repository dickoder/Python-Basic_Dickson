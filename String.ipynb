{
 "cells": [
  {
   "cell_type": "code",
   "execution_count": 9,
   "id": "4e096a70-e9c5-40de-825a-a0b5a750bde2",
   "metadata": {},
   "outputs": [
    {
     "name": "stdout",
     "output_type": "stream",
     "text": [
      "My name is DICKSON\n",
      "DicksonBlak is here to learn simple Python code\n",
      "------------------------------------------------\n",
      "HELLO WORLD\n",
      "PYTHON IS A GOOD CODE\n",
      "------------------------------------------------\n",
      "34\n",
      "<class 'str'>  <-- print the type of string\n",
      "------------------------------------------------\n",
      "It's a BOY\n",
      "------------------------------------------------\n",
      "PRINTING MULTIPLE STRING -->  HELLO WORLD\n",
      "PYTHON IS A GOOD CODE My name is DICKSON and DicksonBlak is here to learn simple Python code\n",
      "------------------------------------------------\n",
      "This is the day that that Lord has made\n",
      "i will rejoice and be glad in it\n"
     ]
    }
   ],
   "source": [
    "# CREATING STRING\n",
    "    # SINGLE QUOTE STRING\n",
    "string1 = 'My name is DICKSON'\n",
    "\n",
    "        # DOUBLE QUOTE STRING\n",
    "string2 = \"DicksonBlak is here to learn simple Python code\"\n",
    "\n",
    "            # TRIPPLE QUOTE STRING\n",
    "string3 = '''HELLO WORLD\n",
    "PYTHON IS A GOOD CODE'''\n",
    "\n",
    "                #creating string using number\n",
    "string4 = \"34\"\n",
    "        # CREATING STRING INCLUSIVE WITH SINGLE QUOTE(')\n",
    "str_A = \"It's a BOY\"\n",
    "    #CREATING STRING WITH LINE BREAK\n",
    "string5 = \"This is the day that that Lord has made\\ni will rejoice and be glad in it\"\n",
    "\n",
    "print(string1)\n",
    "print(string2)\n",
    "print(\"------------------------------------------------\")\n",
    "print(string3)\n",
    "print(\"------------------------------------------------\")\n",
    "print(string4)\n",
    "print(type(string4), \" <-- print the type of string\")\n",
    "print(\"------------------------------------------------\")\n",
    "print(str_A)\n",
    "print(\"------------------------------------------------\")\n",
    "print(\"PRINTING MULTIPLE STRING --> \", string3, string1, \"and\", string2)\n",
    "print(\"------------------------------------------------\")\n",
    "print(string5)"
   ]
  },
  {
   "cell_type": "code",
   "execution_count": 51,
   "id": "f0d44a51-2214-42be-8cf6-0231436dbd75",
   "metadata": {},
   "outputs": [
    {
     "data": {
      "text/plain": [
       "34.0"
      ]
     },
     "execution_count": 51,
     "metadata": {},
     "output_type": "execute_result"
    }
   ],
   "source": [
    "# Converting STRING to FLOAT - like string in Integer value\n",
    "conv_f = float(string4)\n",
    "conv_f\n"
   ]
  },
  {
   "cell_type": "code",
   "execution_count": 7,
   "id": "a50004e7-109b-402b-9a1c-835d70a1dd5f",
   "metadata": {},
   "outputs": [
    {
     "name": "stdout",
     "output_type": "stream",
     "text": [
      "A\n",
      "AT \n",
      "KING AT THE WINDOW\n",
      "LOOKING AT THE W\n"
     ]
    }
   ],
   "source": [
    "# ACCESSING CHARACTER USING INDEXING\n",
    "string6 = \"LOOKING AT THE WINDOW\"\n",
    "str_acc1 = string6[8]\n",
    "\n",
    "# SLICING THE STRING\n",
    "str_acc2 = string6[8:11]\n",
    "str_acc3 = string6[3:]\n",
    "str_acc4 = string6[:-5]\n",
    "print(str_acc1)\n",
    "print(str_acc2)\n",
    "print(str_acc3)\n",
    "print(str_acc4)"
   ]
  },
  {
   "cell_type": "code",
   "execution_count": 36,
   "id": "4ae256b2-1926-42fa-b1f7-05896491f0cd",
   "metadata": {},
   "outputs": [
    {
     "name": "stdout",
     "output_type": "stream",
     "text": [
      "Chukwufumnanya is a girl      <---- printing ONLY the First element is string as CAPITAL LETTER\n",
      "CHUKWUFUMNANYA IS A GIRL      <---- printing all element is string as CAPITAL LETTERS\n"
     ]
    }
   ],
   "source": [
    "        # STRING METHOD\n",
    "# CAPITALIZING THE STRING\n",
    "string7 = \"chukwufumnanya is a girl\"\n",
    "print(string7.capitalize(),  \"     <---- printing ONLY the First element is string as CAPITAL LETTER\")\n",
    "\n",
    "# CAPITALIZE ALL ELEMENT IN STRING\n",
    "print(string7.upper(),  \"     <---- printing all element is string as CAPITAL LETTERS\")"
   ]
  },
  {
   "cell_type": "code",
   "execution_count": 33,
   "id": "5f20bb01-a095-45c1-8eab-c5ae0beb80f3",
   "metadata": {},
   "outputs": [
    {
     "name": "stdout",
     "output_type": "stream",
     "text": [
      "treasure is a girl\n",
      "['TREASURE', 'IS', 'A', 'GIRL']\n",
      "Ruthy IS A GIRL\n"
     ]
    }
   ],
   "source": [
    "# USING MORE STRING METHOD\n",
    "string8 = \"TREASURE IS A GIRL\"\n",
    "print(string8.lower())\n",
    "print(string8.split())\n",
    "print(string8.replace(\"TREASURE\", \"Ruthy\"))"
   ]
  },
  {
   "cell_type": "code",
   "execution_count": 35,
   "id": "4a92b8fc-632e-4289-99da-24385d383587",
   "metadata": {},
   "outputs": [
    {
     "name": "stdout",
     "output_type": "stream",
     "text": [
      "My name is EMEKA and i am as tall as 4.5'ft', at te age of 34.\n"
     ]
    }
   ],
   "source": [
    "# USING 'F STRING FORMAT'\n",
    "name = \"EMEKA\"\n",
    "height = \"4.5'ft'\"\n",
    "age = 34\n",
    "\n",
    "print(f\"My name is {name} and i am as tall as {height}, at te age of {age}.\")"
   ]
  },
  {
   "cell_type": "code",
   "execution_count": null,
   "id": "91b6fed9-ae82-4c0c-94aa-4d9ed2cd93e8",
   "metadata": {},
   "outputs": [],
   "source": []
  }
 ],
 "metadata": {
  "kernelspec": {
   "display_name": "Python 3 (ipykernel)",
   "language": "python",
   "name": "python3"
  },
  "language_info": {
   "codemirror_mode": {
    "name": "ipython",
    "version": 3
   },
   "file_extension": ".py",
   "mimetype": "text/x-python",
   "name": "python",
   "nbconvert_exporter": "python",
   "pygments_lexer": "ipython3",
   "version": "3.12.4"
  }
 },
 "nbformat": 4,
 "nbformat_minor": 5
}
