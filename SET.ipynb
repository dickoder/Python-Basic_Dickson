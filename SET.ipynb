{
 "cells": [
  {
   "cell_type": "code",
   "execution_count": 3,
   "id": "88232759-08fb-40d3-a56f-5dba3b5d523d",
   "metadata": {},
   "outputs": [
    {
     "name": "stdout",
     "output_type": "stream",
     "text": [
      "{'james', 'king', 'orange'}\n",
      "That name is not in the list\n",
      "Yes i can find 2 is the set_a\n",
      "{'LEKAN', 'james', 'king', 'orange'}\n"
     ]
    },
    {
     "data": {
      "text/plain": [
       "{'LEKAN', 'MARTINS', 'MATTHEW', 'MIKE', 'james', 'king', 'orange'}"
      ]
     },
     "execution_count": 3,
     "metadata": {},
     "output_type": "execute_result"
    }
   ],
   "source": [
    "#================= SET ==========================\n",
    "# CREATING SET with a Constructor - set()\n",
    "my_set = set(['james', 'king', 'orange'])\n",
    "\n",
    "print(my_set)\n",
    "#===============================================================================================\n",
    "# CREATING SET WITH CURL BRACK { }\n",
    "set_a = {1, 2, 3, 4, 5}\n",
    "set_b = {2, 4, 6, 7,}\n",
    "#===============================================================================================\n",
    "\n",
    "# MEMBER TESTING - ACCESSING A SET WITH IF STATEMENT - \n",
    "# my_set = set(['james', 'king', 'orange'])\n",
    "if \"Lucky\" in my_set:\n",
    "    print(f\"Yes James is there\")\n",
    "else:\n",
    "    print(\"That name is not in the list\")\n",
    "#==============================================\n",
    "if 2 in set_a:\n",
    "    print(\"Yes 2 is found in set_a\")\n",
    "#===============================================================================================    \n",
    "\n",
    "# MODIFYING A SET WITH  .add and   <====>  .update([ ]) adding more than 1 element\n",
    "# my_set = set(['james', 'king', 'orange'])\n",
    "\n",
    "my_set.add('LEKAN')\n",
    "print(my_set)\n",
    "\n",
    "my_set.update(['MIKE', 'MARTINS', 'MATTHEW'])\n",
    "my_set\n"
   ]
  },
  {
   "cell_type": "code",
   "execution_count": 6,
   "id": "058a691f-d3f6-4d33-9b5c-41dbba700d3e",
   "metadata": {},
   "outputs": [
    {
     "name": "stdout",
     "output_type": "stream",
     "text": [
      "{1, 2, 3, 4, 5, 6, 7} <----  Result of a Union or Combination of a Sets \n"
     ]
    }
   ],
   "source": [
    "# COMBING | UNION OF A SET\n",
    "#  set_a = {1, 2, 3, 4, 5}   set_b = {2, 4, 6, 7,}\n",
    "com_union = set_a | set_b\n",
    "print(com_union, \"<----  Result of a Union or Combination of a Sets \")"
   ]
  },
  {
   "cell_type": "code",
   "execution_count": 7,
   "id": "3f47fa3d-51d6-49a9-928c-e351693bfba8",
   "metadata": {},
   "outputs": [
    {
     "name": "stdout",
     "output_type": "stream",
     "text": [
      "{1, 3, 5} Result of a Difference in bothe 'set_a & set_b'\n"
     ]
    }
   ],
   "source": [
    "# DIFFERENCE  ( - ) OF A SET\n",
    "\n",
    "diff_set = set_a - set_b\n",
    "print(diff_set, \"    <-----  Result of a 'Difference' in both 'set_a & set_b'\") "
   ]
  },
  {
   "cell_type": "code",
   "execution_count": 9,
   "id": "ab5387f1-2a3b-4aa8-81e5-54dec0977e3b",
   "metadata": {},
   "outputs": [
    {
     "name": "stdout",
     "output_type": "stream",
     "text": [
      "{2, 4}    <---- Result of an INTERCEPT of a Sets\n"
     ]
    }
   ],
   "source": [
    "# INTERCEPT OF A SET  ' & '\n",
    "#  set_a = {1, 2, 3, 4, 5}   set_b = {2, 4, 6, 7,}\n",
    "intr_set = set_a & set_b\n",
    "print(intr_set, \"   <---- Result of an INTERCEPT of a Sets\")"
   ]
  },
  {
   "cell_type": "code",
   "execution_count": 15,
   "id": "7a92f2ed-0a75-416a-b1a1-f395f315a120",
   "metadata": {},
   "outputs": [
    {
     "name": "stdout",
     "output_type": "stream",
     "text": [
      "{1, 3, 5, 6, 7} Symmetric diff using '^'\n",
      "{1, 3, 5, 6, 7}\n"
     ]
    }
   ],
   "source": [
    "# SYMMETRIC DIFF - USING 'SYMMETRIC DIFFERENCE '  or ' ^ ' OF A SET\n",
    "#  set_a = {1, 2, 3, 4, 5}   set_b = {2, 4, 6, 7,}\n",
    "\n",
    "symDiff_set = set_a ^ set_b\n",
    "symDiff_set1 = set_a.symmetric_difference(set_b)\n",
    "\n",
    "print(symDiff_set, \"Symmetric diff using '^'\")\n",
    "print(symDiff_set1)"
   ]
  },
  {
   "cell_type": "code",
   "execution_count": 34,
   "id": "6c0d7bb0-76f4-4706-bb58-5a0c32eb3372",
   "metadata": {},
   "outputs": [
    {
     "name": "stdout",
     "output_type": "stream",
     "text": [
      "None\n"
     ]
    }
   ],
   "source": [
    "# REMOVING AN ELEMENT -- .remove ,  .discard, .clear .\n",
    "mysets = {\"dave\", \"anderson\", \"richard\"}\n",
    "mysets1 = {44, 55, 66, 77, 'ade'}\n",
    "\n",
    "print(mysets.remove('richard'))\n"
   ]
  },
  {
   "cell_type": "code",
   "execution_count": 31,
   "id": "cd55bf7b-222a-49b0-a83a-883d4ec143a9",
   "metadata": {},
   "outputs": [],
   "source": [
    "# The discard methods will do nothing if 'what is meant to be discarded is not found\n",
    "# Unlike remove - which will throe errors\n",
    "mysets.discard('daves')"
   ]
  },
  {
   "cell_type": "code",
   "execution_count": 30,
   "id": "20c5ca05-8907-4e45-a903-b65a64e1cd09",
   "metadata": {},
   "outputs": [
    {
     "data": {
      "text/plain": [
       "<function set.clear>"
      ]
     },
     "execution_count": 30,
     "metadata": {},
     "output_type": "execute_result"
    }
   ],
   "source": [
    "# . Clear - will remove all element in the sets\n",
    "# mysets1 = {44, 55, 66, 77, 'ade'}\n",
    "\n",
    "mysets1.clear\n"
   ]
  },
  {
   "cell_type": "code",
   "execution_count": 36,
   "id": "268a6082-287c-4fe5-8e44-f6efb235214b",
   "metadata": {},
   "outputs": [
    {
     "data": {
      "text/plain": [
       "' Task 1: Set Creation\\nCreate a set variable called fruits that contains the following fruit names:\\n\\n\"apple\"\\n\"banana\"\\n\"cherry\"\\n\"date\"\\nPrint the entire set.\\n\\nTask 2: Accessing Elements\\nConvert the set to a list and print the first element of the list.\\nCheck if \"banana\" is in the set and print the result.\\n'"
      ]
     },
     "execution_count": 36,
     "metadata": {},
     "output_type": "execute_result"
    }
   ],
   "source": [
    "### TASK\n",
    "\"\"\" Task 1: Set Creation\n",
    "Create a set variable called fruits that contains the following fruit names:\n",
    "\n",
    "\"apple\"\n",
    "\"banana\"\n",
    "\"cherry\"\n",
    "\"date\"\n",
    "Print the entire set.\n",
    "\n",
    "Task 2: Accessing Elements\n",
    "Convert the set to a list and print the first element of the list.\n",
    "Check if \"banana\" is in the set and print the result.\n",
    "\"\"\""
   ]
  },
  {
   "cell_type": "code",
   "execution_count": 37,
   "id": "4532b4c5-15db-4715-afc3-c535f77869d0",
   "metadata": {},
   "outputs": [
    {
     "name": "stdout",
     "output_type": "stream",
     "text": [
      "{'banana', 'apple', 'cherry', 'date'}\n"
     ]
    }
   ],
   "source": [
    "fruits = {'apple', 'banana', 'date', 'cherry'}\n",
    "print(fruits)"
   ]
  },
  {
   "cell_type": "code",
   "execution_count": 41,
   "id": "5f1925bb-4336-47bf-b3c5-351147aed67a",
   "metadata": {},
   "outputs": [
    {
     "data": {
      "text/plain": [
       "['banana', 'apple', 'cherry', 'date']"
      ]
     },
     "execution_count": 41,
     "metadata": {},
     "output_type": "execute_result"
    }
   ],
   "source": [
    "# Task 2 - Converting the set to a LIST\n",
    "\n",
    "covt_list_1stElem = list(fruits)\n",
    "covt_list_1stElem"
   ]
  },
  {
   "cell_type": "code",
   "execution_count": 42,
   "id": "4a96b8d2-6928-4b82-bad1-ce5563d464dd",
   "metadata": {},
   "outputs": [
    {
     "data": {
      "text/plain": [
       "'banana'"
      ]
     },
     "execution_count": 42,
     "metadata": {},
     "output_type": "execute_result"
    }
   ],
   "source": [
    "# After conversion, printing the 1st Element in that LIST.\n",
    "\n",
    "first_Element = covt_list_1stElem[0]\n",
    "first_Element"
   ]
  },
  {
   "cell_type": "code",
   "execution_count": 45,
   "id": "62c95e80-e362-42e5-828f-a1f26216dca5",
   "metadata": {},
   "outputs": [
    {
     "name": "stdout",
     "output_type": "stream",
     "text": [
      "['banana', 'apple', 'cherry', 'date']\n"
     ]
    }
   ],
   "source": [
    "if 'banana' in covt_list_1stElem:\n",
    "    print(covt_list_1stElem)"
   ]
  },
  {
   "cell_type": "code",
   "execution_count": 46,
   "id": "36c676e8-b155-4ccb-95d2-94ebb4e72b46",
   "metadata": {},
   "outputs": [
    {
     "name": "stdout",
     "output_type": "stream",
     "text": [
      "{'banana', 'apple', 'cherry', 'date'}\n"
     ]
    }
   ],
   "source": [
    "if 'banana' in fruits:\n",
    "    print(fruits)"
   ]
  },
  {
   "cell_type": "code",
   "execution_count": null,
   "id": "a0d103b3-1bc9-4422-b71c-ff3b4898f982",
   "metadata": {},
   "outputs": [],
   "source": []
  }
 ],
 "metadata": {
  "kernelspec": {
   "display_name": "Python 3 (ipykernel)",
   "language": "python",
   "name": "python3"
  },
  "language_info": {
   "codemirror_mode": {
    "name": "ipython",
    "version": 3
   },
   "file_extension": ".py",
   "mimetype": "text/x-python",
   "name": "python",
   "nbconvert_exporter": "python",
   "pygments_lexer": "ipython3",
   "version": "3.12.4"
  }
 },
 "nbformat": 4,
 "nbformat_minor": 5
}
