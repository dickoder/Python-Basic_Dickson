{
 "cells": [
  {
   "cell_type": "code",
   "execution_count": 111,
   "id": "ba88c65a-e717-4389-ab31-9948ab605ac5",
   "metadata": {},
   "outputs": [
    {
     "name": "stdout",
     "output_type": "stream",
     "text": [
      "True -   a NOT EQUAL b\n",
      "False -    a is b\n",
      "True -   c IS NOT a\n",
      "False -    a == b\n",
      "False -   EQUAL with a variable hold\n",
      "False\n"
     ]
    }
   ],
   "source": [
    "# BASIC OPERATION ASSIGNMENT\n",
    "a = 20\n",
    "b = 30\n",
    "c = \"boy\"\n",
    "d = \"girl\"\n",
    "\n",
    "equ_1 = a == b\n",
    "equ_2 = a == c\n",
    "\n",
    "print(a != b, \"-   a NOT EQUAL b\")\n",
    "print(a is b, \"-    a is b\")\n",
    "print(c is not a, \"-   c IS NOT a\")\n",
    "print(a == b, \"-    a == b\")\n",
    "print(equ_1,   \"-   EQUAL with a variable hold\")\n",
    "print(equ_2)\n"
   ]
  },
  {
   "cell_type": "code",
   "execution_count": 7,
   "id": "985a83bc-4e42-49f3-bcad-41d21d93dd60",
   "metadata": {},
   "outputs": [
    {
     "name": "stdout",
     "output_type": "stream",
     "text": [
      "This result is Addition --- 24\n",
      "This result is Subtraction --- 4\n",
      "This result is Multiplicaion --- 140\n",
      "This result is Division --- 1.4\n",
      "This is Floor Division --- 1\n",
      "This is Exponential function --- 289254654976\n",
      "4 <--- Printing Modulus Directly without a variable\n",
      "4\n"
     ]
    }
   ],
   "source": [
    "#BASIC Assignment contuinuation #\n",
    "    \n",
    "x = 14\n",
    "y = 10\n",
    "# ADDITION\n",
    "add_int = x + y\n",
    "# SUBTRACTION\n",
    "sub_int = x - y\n",
    "# MULTIPLICATION\n",
    "mul_int = x * y\n",
    "# DIVISION\n",
    "div_int = x / y\n",
    "# DIVISION\n",
    "f_div = x // y\n",
    "# EXPONENTIAL\n",
    "exp = x ** y\n",
    "# MODULUS\n",
    "mod = x % y\n",
    "\n",
    "print(\"This result is Addition ---\", add_int)\n",
    "print(\"This result is Subtraction ---\", sub_int)\n",
    "print(\"This result is Multiplicaion ---\", mul_int)\n",
    "print(\"This result is Division ---\", div_int)\n",
    "print(\"This is Floor Division ---\", f_div)\n",
    "print(\"This is Exponential function ---\", exp)\n",
    "print(x % y, \"<--- Printing Modulus Directly without a variable\" )\n",
    "print(mod)"
   ]
  },
  {
   "cell_type": "code",
   "execution_count": 23,
   "id": "ec9f8b7d-8ee0-467e-9e5d-72e2a198f998",
   "metadata": {},
   "outputs": [
    {
     "name": "stdout",
     "output_type": "stream",
     "text": [
      "5.5     <----This is a float addition result\n",
      "-0.5     <----This is a float subtraction result\n",
      "0.8333333333333334     <----This is a float division result\n",
      "7.5     <----This is a float multiplication result\n",
      "7.0     <---- Result of an Integer converted to float\n",
      "1     <----This is a rounding up result\n",
      "<class 'float'>\n"
     ]
    },
    {
     "data": {
      "text/plain": [
       "float"
      ]
     },
     "execution_count": 23,
     "metadata": {},
     "output_type": "execute_result"
    }
   ],
   "source": [
    "#  WORKING WITH FLOAT ASSIGNMENT\n",
    "f = 2.5\n",
    "t = 3.0\n",
    "flt_sum = f + t\n",
    "flt_sub = f - t\n",
    "flt_div = f / t\n",
    "flt_mul = f * t\n",
    "int_num = 7\n",
    "int_to_float = float(int_num)\n",
    "\n",
    "print(flt_sum, \"    <----This is a float addition result\")\n",
    "print(flt_sub, \"    <----This is a float subtraction result\")\n",
    "print(flt_div, \"    <----This is a float division result\")\n",
    "print(flt_mul, \"    <----This is a float multiplication result\")\n",
    "print(int_to_float, \"    <---- Result of an Integer converted to float\")\n",
    "print(round(flt_div), \"    <----This is a rounding up result\")\n",
    "print(type(int_to_float))\n",
    "type(int_to_float)"
   ]
  },
  {
   "cell_type": "code",
   "execution_count": 77,
   "id": "7a1bae8e-e1a6-4d40-b1a4-8d40e7bcbc0c",
   "metadata": {},
   "outputs": [
    {
     "name": "stdout",
     "output_type": "stream",
     "text": [
      "8.25\n",
      "8.2\n",
      "8\n"
     ]
    }
   ],
   "source": [
    "# ROUNDED NUMBER ASSIGNMENT\n",
    "r1 = 33\n",
    "r2 = 4\n",
    "r_sum = r1 / r2\n",
    "\n",
    "rounded_num = round(r_sum)\n",
    "rounded_num_one = round(r_sum, 1)\n",
    "\n",
    "print(r_sum)\n",
    "print(rounded_num_one)\n",
    "print(rounded_num)"
   ]
  },
  {
   "cell_type": "code",
   "execution_count": 43,
   "id": "947d70fe-b992-479a-8716-2aa3b9157ef7",
   "metadata": {},
   "outputs": [
    {
     "name": "stdout",
     "output_type": "stream",
     "text": [
      "(5+4j)\n",
      "(3+0j)\n",
      "(1.6-1.2j)\n",
      "10j\n",
      "(4+2j) [3]\n"
     ]
    }
   ],
   "source": [
    "# COMPLEX ASSISGNMENT\n",
    "cm_1 = 4 + 2j\n",
    "cm_2 = 2j + 1\n",
    "cm_3 = 2 + 1j\n",
    "\n",
    "complex_add = cm_1 + cm_2\n",
    "complex_sub = cm_1 - cm_2\n",
    "complex_div = cm_1 / cm_2\n",
    "complex_mul = cm_1 * cm_2\n",
    "\n",
    "complex_sum3 = cm_1 + cm_3\n",
    "\n",
    "print(complex_add)\n",
    "print(complex_sub)\n",
    "print(complex_div)\n",
    "print(complex_mul)\n",
    "print(cm_1, [3], \"AM NOT GETTING THE ANSWER TO PRINT THE IMAGINARY PARTS ONLY\")"
   ]
  },
  {
   "cell_type": "code",
   "execution_count": null,
   "id": "63d28cf6-03e7-451a-a510-b300b4378f86",
   "metadata": {},
   "outputs": [],
   "source": []
  }
 ],
 "metadata": {
  "kernelspec": {
   "display_name": "Python 3 (ipykernel)",
   "language": "python",
   "name": "python3"
  },
  "language_info": {
   "codemirror_mode": {
    "name": "ipython",
    "version": 3
   },
   "file_extension": ".py",
   "mimetype": "text/x-python",
   "name": "python",
   "nbconvert_exporter": "python",
   "pygments_lexer": "ipython3",
   "version": "3.12.4"
  }
 },
 "nbformat": 4,
 "nbformat_minor": 5
}
