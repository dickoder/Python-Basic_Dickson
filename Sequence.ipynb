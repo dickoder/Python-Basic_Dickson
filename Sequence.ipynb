{
 "cells": [
  {
   "cell_type": "code",
   "execution_count": 157,
   "id": "5f20bb01-a095-45c1-8eab-c5ae0beb80f3",
   "metadata": {},
   "outputs": [
    {
     "name": "stdout",
     "output_type": "stream",
     "text": [
      "[1, 2, 3, 4, 'a', 'b', 'c', 'D']\n",
      "['DICKSON', 'MIKE', 1, 3, 77, 'B']\n",
      "=========================================\n",
      "[1, 2, 3, 4, 'a', 'b']\n",
      "b\n",
      "MIKE <-- result of accessing element '1' \n",
      "[1, 2, 3, 4, 'APPLE', 'b', 'c', 'D']    <-- 'a' has been replaced by 'APPLE'\n"
     ]
    }
   ],
   "source": [
    "        #ASSIGNMENT ON SEQUENCE#\n",
    "    # CREATING LIST\n",
    "mylist = [1,2,3,4,'a','b','c','D']\n",
    "    # CREATING SECOND LIST\n",
    "list_1 = ['DICKSON', 'MIKE', 1, 3,77, 'B' ]\n",
    "\n",
    "# Printing the LIST - mylist and list_1\n",
    "print(mylist)\n",
    "print (list_1)\n",
    "print(\"=========================================\")\n",
    "\n",
    "#Accessing an element in a list - is like using indexing []\n",
    "print(mylist[:6])\n",
    "access_list = mylist[5]\n",
    "print(access_list)\n",
    "print(list_1[1], \"<-- result of accessing element '1' on the name List_1 \")\n",
    "\n",
    "# REPLACING AN ELEMENT IN A LIST e.g - list_1\n",
    "mylist[4] = 'APPLE'\n",
    "print(mylist, \"   <-- 'a' has been replaced by 'APPLE'\")"
   ]
  },
  {
   "cell_type": "code",
   "execution_count": 76,
   "id": "bd9da3dc-f8d1-427b-b68b-a78c62b88c00",
   "metadata": {},
   "outputs": [
    {
     "data": {
      "text/plain": [
       "['JAMAL', 'KING', 22.5, 'KESSY']"
      ]
     },
     "execution_count": 76,
     "metadata": {},
     "output_type": "execute_result"
    }
   ],
   "source": [
    "    # MORE ON REPLACING AND ELEMENT ON - LIST\n",
    "list2 = [\"JAMAL\", 23, 22.5, 'KESSY']\n",
    "list2\n",
    "    # REPLACING THE ELEMENT \"  [1] to 'KING' \"\n",
    "list2[1] = \"KING\"\n",
    "list2"
   ]
  },
  {
   "cell_type": "code",
   "execution_count": 45,
   "id": "8ac74040-fb98-45da-9967-76c54216ef4f",
   "metadata": {},
   "outputs": [
    {
     "name": "stdout",
     "output_type": "stream",
     "text": [
      "['JAMAL', 23, 22.5, 'KESSY', 'GOAT']\n"
     ]
    }
   ],
   "source": [
    "# TO ADD AN ELEMTNT TO THE LIST\n",
    "list3 = [\"JAMAL\", 23, 22.5, 'KESSY']\n",
    "list3.append('GOAT')\n",
    "print(list3)"
   ]
  },
  {
   "cell_type": "code",
   "execution_count": 11,
   "id": "b21a9bb9-263a-4b49-98a2-dc0186f76288",
   "metadata": {},
   "outputs": [
    {
     "data": {
      "text/plain": [
       "['JAMAL', 23, 'KESSY']"
      ]
     },
     "execution_count": 11,
     "metadata": {},
     "output_type": "execute_result"
    }
   ],
   "source": [
    "list3 = [\"JAMAL\", 23, 22.5, 'KESSY']\n",
    "list3.remove(22.5)\n",
    "list3"
   ]
  },
  {
   "cell_type": "code",
   "execution_count": 13,
   "id": "4a38575f-42e0-4d5e-bce5-f9a236f700fb",
   "metadata": {},
   "outputs": [
    {
     "data": {
      "text/plain": [
       "['JAMAL', 23, 'QUEEN', 22.5, 'KESSY']"
      ]
     },
     "execution_count": 13,
     "metadata": {},
     "output_type": "execute_result"
    }
   ],
   "source": [
    "# INSERTING METHOD in a LIST\n",
    "list4 = [\"JAMAL\", 23, 22.5, 'KESSY']\n",
    "list4.insert(2, \"QUEEN\")\n",
    "list4"
   ]
  },
  {
   "cell_type": "code",
   "execution_count": 15,
   "id": "f717b0a4-4ab3-45a9-8178-5f6ff67ae6c8",
   "metadata": {},
   "outputs": [
    {
     "ename": "TypeError",
     "evalue": "'<' not supported between instances of 'int' and 'str'",
     "output_type": "error",
     "traceback": [
      "\u001b[1;31m---------------------------------------------------------------------------\u001b[0m",
      "\u001b[1;31mTypeError\u001b[0m                                 Traceback (most recent call last)",
      "Cell \u001b[1;32mIn[15], line 3\u001b[0m\n\u001b[0;32m      1\u001b[0m \u001b[38;5;66;03m# SORT METHOD IN A LIST\u001b[39;00m\n\u001b[0;32m      2\u001b[0m list5 \u001b[38;5;241m=\u001b[39m [\u001b[38;5;124m\"\u001b[39m\u001b[38;5;124mJAMAL\u001b[39m\u001b[38;5;124m\"\u001b[39m, \u001b[38;5;241m23\u001b[39m, \u001b[38;5;241m22.5\u001b[39m, \u001b[38;5;124m'\u001b[39m\u001b[38;5;124mKESSY\u001b[39m\u001b[38;5;124m'\u001b[39m]\n\u001b[1;32m----> 3\u001b[0m list5\u001b[38;5;241m.\u001b[39msort()\n\u001b[0;32m      4\u001b[0m list5\n",
      "\u001b[1;31mTypeError\u001b[0m: '<' not supported between instances of 'int' and 'str'"
     ]
    }
   ],
   "source": [
    "# SORT METHOD IN A LIST - NOTE: You cannot sort with the combination of STRING and INT\n",
    "list5 = [\"JAMAL\", 23, 22.5, 'KESSY']\n",
    "list5.sort()\n",
    "list5"
   ]
  },
  {
   "cell_type": "code",
   "execution_count": 41,
   "id": "2c8b0b5e-e586-4843-bdce-7bbdf4b22b3f",
   "metadata": {},
   "outputs": [
    {
     "name": "stdout",
     "output_type": "stream",
     "text": [
      "('CARS', 'FRUITS')\n"
     ]
    }
   ],
   "source": [
    "#-------------------------------------------------------------------------\n",
    "# TUPLE = CREATING A TUPLE\n",
    "myTuple_1 = (2, \"RICE\", 14.4, [3, \"APPLE\"])\n",
    "myTuple_1\n",
    "\n",
    "# CREATING ANOTHER TUPLE THAT ALLOWS ONLY 1 ARGUMENT\n",
    "myTuple_D = tuple(['CARS', 'FRUITS'])\n",
    "print(myTuple_D)"
   ]
  },
  {
   "cell_type": "code",
   "execution_count": 27,
   "id": "ee92b7f5-deed-495d-b20f-04e60262b207",
   "metadata": {},
   "outputs": [
    {
     "data": {
      "text/plain": [
       "4"
      ]
     },
     "execution_count": 27,
     "metadata": {},
     "output_type": "execute_result"
    }
   ],
   "source": [
    "# CREATING A SINGLE TUPLE - Notice the comma ,\n",
    "single_tuple1 = (4)\n",
    "single_tuple2 = (\"ocean\")\n",
    "\n",
    "single_tuple1"
   ]
  },
  {
   "cell_type": "code",
   "execution_count": 37,
   "id": "f81195a3-c2f6-4533-a450-c177bbf4b313",
   "metadata": {},
   "outputs": [
    {
     "name": "stdout",
     "output_type": "stream",
     "text": [
      "['APPLE', 'TANGERING', 70]\n",
      "(6,)\n"
     ]
    }
   ],
   "source": [
    "# Accessing Tuple Element and SLICING\n",
    "myTuple2 = ('LUCKY', 6, ['APPLE', 'TANGERING', 70,])\n",
    "print(myTuple2[-1])\n",
    "print(myTuple2[1:2])"
   ]
  },
  {
   "cell_type": "code",
   "execution_count": 19,
   "id": "f2a623d4-20fe-4ef3-aa15-c3367bcd0a12",
   "metadata": {},
   "outputs": [
    {
     "name": "stdout",
     "output_type": "stream",
     "text": [
      "(4, 6, 7, 1, 3, 5)  <=== Concatenating using + operator\n",
      "(4, 6, 7, 1, 3, 5)  <=== Concatenate using * operator\n"
     ]
    }
   ],
   "source": [
    "# CONCATENATION IN TUPLE - USING + and *\n",
    "tup_C = (4, 6, 7,) \n",
    "tup_D = (1, 3, 5,)\n",
    "\n",
    "print(tup_C + tup_D, \" <=== Concatenating using + operator\")\n",
    "print(tup_C + tup_D, \" <=== Concatenate using * operator\")"
   ]
  },
  {
   "cell_type": "code",
   "execution_count": 49,
   "id": "cf621e58-9ded-4475-bc8d-cabe5e4746b8",
   "metadata": {},
   "outputs": [
    {
     "name": "stdout",
     "output_type": "stream",
     "text": [
      "[2, 3, 4, 1, 5, 6]\n"
     ]
    }
   ],
   "source": [
    "# CONCATENATION IN LIST - USING + and *\n",
    "\n",
    "a_List = [2, 3, 4]\n",
    "b_List = [1, 5, 6]\n",
    "\n",
    "print(a_List + b_List)"
   ]
  },
  {
   "cell_type": "code",
   "execution_count": 29,
   "id": "90fa37e4-d8b9-4b75-b5f0-438fd7bd7601",
   "metadata": {},
   "outputs": [
    {
     "name": "stdout",
     "output_type": "stream",
     "text": [
      "(4, 5, 6, 1, 2, 5) my name is King\n"
     ]
    }
   ],
   "source": [
    "\n",
    "# PASSING F'STRING INSIDE A TUPLE'\n",
    "tup_A = (4, 5, 6,) \n",
    "tup_B = (1, 2, 5,)\n",
    "name = 'King'\n",
    "\n",
    "print(tup_A + tup_B, f\"my name is {name}\")"
   ]
  },
  {
   "cell_type": "code",
   "execution_count": 59,
   "id": "ce45f54e-fad5-441b-8104-228b77d6071f",
   "metadata": {},
   "outputs": [
    {
     "name": "stdout",
     "output_type": "stream",
     "text": [
      "False      <== result of finding 3 in a TUPLE\n",
      "True       <== result of finding 5 in a LIST\n"
     ]
    }
   ],
   "source": [
    "# MEMBERSHIP IN A LIST OR TUPLE\n",
    "\n",
    "# checking if 3 is an element in Tuple = tup_A\n",
    "print(3 in tup_A, \"     <== result of finding 3 in a TUPLE\")\n",
    "print(5 in b_List, \"      <== result of finding 5 in a LIST\")"
   ]
  },
  {
   "cell_type": "code",
   "execution_count": 37,
   "id": "525628e0-f136-4cd8-9b74-82cbda9aee4c",
   "metadata": {},
   "outputs": [
    {
     "data": {
      "text/plain": [
       "3"
      ]
     },
     "execution_count": 37,
     "metadata": {},
     "output_type": "execute_result"
    }
   ],
   "source": [
    "# Checking the Lenght of Tuple = tup_A\n",
    "len(tup_A)\n"
   ]
  },
  {
   "cell_type": "code",
   "execution_count": 43,
   "id": "6ba251a4-96ec-4798-ab99-ea3223d06588",
   "metadata": {},
   "outputs": [
    {
     "name": "stdout",
     "output_type": "stream",
     "text": [
      "4\n",
      "5\n"
     ]
    }
   ],
   "source": [
    "# Checking the Minimum and Maximum of Tuple = tup_A and tup_B\n",
    "print(min(tup_A), \" <===  \")\n",
    "print(max(tup_B))"
   ]
  },
  {
   "cell_type": "code",
   "execution_count": null,
   "id": "e3ca4707-dd18-4a1c-8698-c568c0c5c402",
   "metadata": {},
   "outputs": [],
   "source": []
  }
 ],
 "metadata": {
  "kernelspec": {
   "display_name": "Python 3 (ipykernel)",
   "language": "python",
   "name": "python3"
  },
  "language_info": {
   "codemirror_mode": {
    "name": "ipython",
    "version": 3
   },
   "file_extension": ".py",
   "mimetype": "text/x-python",
   "name": "python",
   "nbconvert_exporter": "python",
   "pygments_lexer": "ipython3",
   "version": "3.12.4"
  }
 },
 "nbformat": 4,
 "nbformat_minor": 5
}
